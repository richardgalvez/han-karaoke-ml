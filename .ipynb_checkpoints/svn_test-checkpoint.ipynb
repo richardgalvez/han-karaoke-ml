{
 "cells": [
  {
   "cell_type": "code",
   "execution_count": 1,
   "id": "d888b998-abc2-40a7-b548-4d093a2725a1",
   "metadata": {},
   "outputs": [
    {
     "ename": "SyntaxError",
     "evalue": "invalid syntax (253953325.py, line 16)",
     "output_type": "error",
     "traceback": [
      "\u001b[0;36m  Cell \u001b[0;32mIn[1], line 16\u001b[0;36m\u001b[0m\n\u001b[0;31m    plt.scatter(X[:. 0], X[:, 1], c=y, s=30, cmap=plt.cm.Paired)\u001b[0m\n\u001b[0m                   ^\u001b[0m\n\u001b[0;31mSyntaxError\u001b[0m\u001b[0;31m:\u001b[0m invalid syntax\n"
     ]
    }
   ],
   "source": [
    "import numpy as np\n",
    "import matplotlib.pyplot as plt\n",
    "from sklearn import svm\n",
    "\n",
    "# Module to create test/fake data.\n",
    "from sklearn.datasets.samples_generator import make_blobs\n",
    "\n",
    "# Create 40 seperable points.\n",
    "X, y = make_blobs(n_samples=40, centers=2, random_state=20)\n",
    "\n",
    "# Fit the model, don't regularize for illustration purposes\n",
    "clf = svm.SVC(kernel='linear', C=1)\n",
    "clf.fit(X, y)\n",
    "\n",
    "# Display the data in graph form\n",
    "plt.scatter(X[:, 0], X[:, 1], c=y, s=30, cmap=plt.cm.Paired)\n",
    "plt.show()"
   ]
  },
  {
   "cell_type": "code",
   "execution_count": null,
   "id": "33b439c0-8e09-48a2-9962-8487c35f4472",
   "metadata": {},
   "outputs": [],
   "source": []
  }
 ],
 "metadata": {
  "kernelspec": {
   "display_name": "Python 3 (ipykernel)",
   "language": "python",
   "name": "python3"
  },
  "language_info": {
   "codemirror_mode": {
    "name": "ipython",
    "version": 3
   },
   "file_extension": ".py",
   "mimetype": "text/x-python",
   "name": "python",
   "nbconvert_exporter": "python",
   "pygments_lexer": "ipython3",
   "version": "3.12.0"
  }
 },
 "nbformat": 4,
 "nbformat_minor": 5
}
